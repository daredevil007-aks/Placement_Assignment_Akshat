{
 "cells": [
  {
   "cell_type": "code",
   "execution_count": 8,
   "id": "4ff090f7",
   "metadata": {},
   "outputs": [
    {
     "name": "stdout",
     "output_type": "stream",
     "text": [
      "{'verbs': 1, 'nouns': 3, 'pronouns': 1, 'adjectives': 2} {'verbs': 1, 'nouns': 3, 'pronouns': 2, 'adjectives': 0}\n"
     ]
    },
    {
     "name": "stderr",
     "output_type": "stream",
     "text": [
      "[nltk_data] Downloading package punkt to C:\\Users\\archit\n",
      "[nltk_data]     jain\\AppData\\Roaming\\nltk_data...\n",
      "[nltk_data]   Package punkt is already up-to-date!\n",
      "[nltk_data] Downloading package averaged_perceptron_tagger to\n",
      "[nltk_data]     C:\\Users\\archit jain\\AppData\\Roaming\\nltk_data...\n",
      "[nltk_data]   Package averaged_perceptron_tagger is already up-to-\n",
      "[nltk_data]       date!\n"
     ]
    }
   ],
   "source": [
    "import nltk\n",
    "nltk.download('punkt')\n",
    "nltk.download('averaged_perceptron_tagger')\n",
    "from nltk.tokenize import word_tokenize\n",
    "from nltk.tag import pos_tag\n",
    "\n",
    "def count_pos_tags(text):\n",
    "    # Tokenize text into individual words\n",
    "    words = word_tokenize(text)\n",
    "    \n",
    "    # Perform part-of-speech tagging on the words\n",
    "    tagged_words = pos_tag(words)\n",
    "    \n",
    "    # Initialize counters\n",
    "    verb_count = 0\n",
    "    noun_count = 0\n",
    "    pronoun_count = 0\n",
    "    adjective_count = 0\n",
    "    \n",
    "    # Iterate over tagged words and count different parts of speech\n",
    "    for word, tag in tagged_words:\n",
    "        if tag.startswith('V'):  # Verbs\n",
    "            verb_count += 1\n",
    "        elif tag.startswith('N'):  # Nouns\n",
    "            noun_count += 1\n",
    "        elif tag == 'PRP' or tag == 'PRP$':  # Pronouns\n",
    "            pronoun_count += 1\n",
    "        elif tag.startswith('J'):  # Adjectives\n",
    "            adjective_count += 1\n",
    "    \n",
    "    # Create a dictionary with the counts\n",
    "    pos_counts = {\n",
    "        'verbs': verb_count,\n",
    "        'nouns': noun_count,\n",
    "        'pronouns': pronoun_count,\n",
    "        'adjectives': adjective_count\n",
    "    }\n",
    "    \n",
    "    return pos_counts\n",
    "\n",
    "# Test case\n",
    "text1 = \"The elephant swims in the lake. It was a beautiful day.\"\n",
    "text2 = \"Currently I'm in Bangalore for my placement preparations\"\n",
    "count1 = count_pos_tags(text1)\n",
    "count2 = count_pos_tags(text2)\n",
    "print(count1,count2)"
   ]
  },
  {
   "cell_type": "code",
   "execution_count": 2,
   "id": "7e027db5",
   "metadata": {},
   "outputs": [],
   "source": []
  },
  {
   "cell_type": "code",
   "execution_count": null,
   "id": "f3963b61",
   "metadata": {},
   "outputs": [],
   "source": []
  }
 ],
 "metadata": {
  "kernelspec": {
   "display_name": "Python 3 (ipykernel)",
   "language": "python",
   "name": "python3"
  },
  "language_info": {
   "codemirror_mode": {
    "name": "ipython",
    "version": 3
   },
   "file_extension": ".py",
   "mimetype": "text/x-python",
   "name": "python",
   "nbconvert_exporter": "python",
   "pygments_lexer": "ipython3",
   "version": "3.9.12"
  }
 },
 "nbformat": 4,
 "nbformat_minor": 5
}
