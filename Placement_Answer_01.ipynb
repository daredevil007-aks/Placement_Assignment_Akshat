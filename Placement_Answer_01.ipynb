{
 "cells": [
  {
   "cell_type": "code",
   "execution_count": 2,
   "id": "145c48d4-491a-448f-8cb0-1a085d2da172",
   "metadata": {},
   "outputs": [
    {
     "data": {
      "text/plain": [
       "(5, 'write')"
      ]
     },
     "execution_count": 2,
     "metadata": {},
     "output_type": "execute_result"
    }
   ],
   "source": [
    "def count_word(input_1): # defining a function which will take input as a list of string\n",
    "    dict_func = {}  #creating a empty dictonary which will store length of each word as keys and values pair\n",
    "    for i in input_1:  #looping\n",
    "        counting_func = input_1.count(i) #counting each word values with count function\n",
    "        if i not in dict_func.keys():  #applying condition \n",
    "            dict_func[i] = counting_func   #adding keys and values to the dict\n",
    "            highest_freq = max(dict_func.values())   #taking the maximum one out\n",
    "            highest_word = [word for word, count in dict_func.items() if count == highest_freq]\n",
    "            highest_word_len = len(highest_word[0])\n",
    "    return highest_word_len, highest_word[0]\n",
    "\n",
    "count_word(list(map(str,input().split(' '))))  #taking input as a string and splitting it with space separted way in a list format\n"
   ]
  }
 ],
 "metadata": {
  "kernelspec": {
   "display_name": "Python 3.10.4 64-bit",
   "language": "python",
   "name": "python3"
  },
  "language_info": {
   "codemirror_mode": {
    "name": "ipython",
    "version": 3
   },
   "file_extension": ".py",
   "mimetype": "text/x-python",
   "name": "python",
   "nbconvert_exporter": "python",
   "pygments_lexer": "ipython3",
   "version": "3.10.4"
  },
  "vscode": {
   "interpreter": {
    "hash": "63963b3f4c440940f0b94a3100916033a226cb4f45979123153792d60aa56d6a"
   }
  }
 },
 "nbformat": 4,
 "nbformat_minor": 5
}
