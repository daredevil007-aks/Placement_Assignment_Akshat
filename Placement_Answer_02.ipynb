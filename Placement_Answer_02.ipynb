{
 "cells": [
  {
   "cell_type": "code",
   "execution_count": 1,
   "id": "f769d36a-d9f4-47ca-9efd-7fbb673a1480",
   "metadata": {},
   "outputs": [
    {
     "data": {
      "text/plain": [
       "True"
      ]
     },
     "execution_count": 1,
     "metadata": {},
     "output_type": "execute_result"
    }
   ],
   "source": [
    "def checking(words): #creating a function\n",
    "    dic = {}\n",
    "    for i in words: #looping\n",
    "        count_1 = words.count(i) #counting value of i\n",
    "        if i not in dic.keys():  \n",
    "            dic[i] = count_1  #saving it in dict\n",
    "            values_list = list(dic.values())  #creating list of dict values\n",
    "            first_value = values_list[0]  #taking the highest on out\n",
    "            for value in values_list[1:]:  #looping with if condition if the value is not same return false or True\n",
    "                if value != first_value:\n",
    "                    return False\n",
    "                else:\n",
    "                    return True\n",
    "                    \n",
    "checking(str(input())) #calling our function"
   ]
  }
 ],
 "metadata": {
  "kernelspec": {
   "display_name": "Python 3.10.4 64-bit",
   "language": "python",
   "name": "python3"
  },
  "language_info": {
   "codemirror_mode": {
    "name": "ipython",
    "version": 3
   },
   "file_extension": ".py",
   "mimetype": "text/x-python",
   "name": "python",
   "nbconvert_exporter": "python",
   "pygments_lexer": "ipython3",
   "version": "3.10.4"
  },
  "vscode": {
   "interpreter": {
    "hash": "63963b3f4c440940f0b94a3100916033a226cb4f45979123153792d60aa56d6a"
   }
  }
 },
 "nbformat": 4,
 "nbformat_minor": 5
}
